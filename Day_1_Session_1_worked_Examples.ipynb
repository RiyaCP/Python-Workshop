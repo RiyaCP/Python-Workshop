{
  "nbformat": 4,
  "nbformat_minor": 0,
  "metadata": {
    "colab": {
      "name": "Day 1  Session 1 worked Examples",
      "provenance": [],
      "authorship_tag": "ABX9TyMY/07V+vpqMpV/Fx2l4xWv",
      "include_colab_link": true
    },
    "kernelspec": {
      "name": "python3",
      "display_name": "Python 3"
    }
  },
  "cells": [
    {
      "cell_type": "markdown",
      "metadata": {
        "id": "view-in-github",
        "colab_type": "text"
      },
      "source": [
        "<a href=\"https://colab.research.google.com/github/RiyaCP/Python-Workshop/blob/master/Day_1_Session_1_worked_Examples.ipynb\" target=\"_parent\"><img src=\"https://colab.research.google.com/assets/colab-badge.svg\" alt=\"Open In Colab\"/></a>"
      ]
    },
    {
      "cell_type": "markdown",
      "metadata": {
        "id": "-hyiMtqPF7AP",
        "colab_type": "text"
      },
      "source": [
        "Python Program To Add Two Number\n"
      ]
    },
    {
      "cell_type": "code",
      "metadata": {
        "id": "chNUM68eGA6k",
        "colab_type": "code",
        "colab": {
          "base_uri": "https://localhost:8080/",
          "height": 72
        },
        "outputId": "f7f60090-91ff-4c37-c755-44a8aeb31a0f"
      },
      "source": [
        "# sum of two nos\n",
        "num1 = int(input(\"Enter first no\"))\n",
        "num2 = int(input(\"Enter second no\"))\n",
        "\n",
        "# Adding the two numbers\n",
        "sum = num1 + num2\n",
        "\n",
        "# Display the sum\n",
        "print('The sum of {0} and {1} is {2}'.format(num1, num2, sum))\n",
        "\n"
      ],
      "execution_count": 1,
      "outputs": [
        {
          "output_type": "stream",
          "text": [
            "Enter first no2\n",
            "Enter second no4\n",
            "The sum of 2 and 4 is 6\n"
          ],
          "name": "stdout"
        }
      ]
    },
    {
      "cell_type": "markdown",
      "metadata": {
        "id": "Pu30V7TTKJHU",
        "colab_type": "text"
      },
      "source": [
        "Python Program To Check if the Input year is Leap year or Not\n"
      ]
    },
    {
      "cell_type": "code",
      "metadata": {
        "id": "-vINBazcNLlZ",
        "colab_type": "code",
        "colab": {
          "base_uri": "https://localhost:8080/",
          "height": 54
        },
        "outputId": "4d65d6ad-f761-4aa9-f6ee-07e1f92f8432"
      },
      "source": [
        "# To get year (integer input) from the user\n",
        "year = int(input(\"Enter a year: \"))\n",
        "\n",
        "if ((year % 4) == 0 and (year % 100)  != 0) or ((year % 400) == 0):\n",
        "           print(\"{0} is a leap year\".format(year))\n",
        "else:\n",
        "           print(\"{0} is not a leap year\".format(year))\n",
        "\n"
      ],
      "execution_count": 4,
      "outputs": [
        {
          "output_type": "stream",
          "text": [
            "Enter a year: 2000\n",
            "2000 is a leap year\n"
          ],
          "name": "stdout"
        }
      ]
    },
    {
      "cell_type": "markdown",
      "metadata": {
        "id": "DKGurXeCNkfc",
        "colab_type": "text"
      },
      "source": [
        "Python Program to Generate a Random Number"
      ]
    },
    {
      "cell_type": "code",
      "metadata": {
        "id": "paPfNX1QNycd",
        "colab_type": "code",
        "colab": {
          "base_uri": "https://localhost:8080/",
          "height": 35
        },
        "outputId": "9e6de5bd-5ee1-45d4-841a-28ca20038a9b"
      },
      "source": [
        "# Program to generate a random number between 0 and 9\n",
        "# import the random module\n",
        "import random\n",
        "print(random.randint(0,9))\n",
        "  \n"
      ],
      "execution_count": 6,
      "outputs": [
        {
          "output_type": "stream",
          "text": [
            "1\n"
          ],
          "name": "stdout"
        }
      ]
    },
    {
      "cell_type": "markdown",
      "metadata": {
        "id": "uASaSyEaOAw3",
        "colab_type": "text"
      },
      "source": [
        "Python Program to Convert Kilometers to Miles"
      ]
    },
    {
      "cell_type": "code",
      "metadata": {
        "id": "H7SyDltVOOvw",
        "colab_type": "code",
        "colab": {
          "base_uri": "https://localhost:8080/",
          "height": 51
        },
        "outputId": "6bef5164-4c91-4e77-c736-27f8fb28099a"
      },
      "source": [
        "# To take kilometers from the user, uncomment the code below\n",
        "kilometers = int(input(\"Enter value in kilometers\"))\n",
        "\n",
        "# conversion factor\n",
        "conv_fac = 0.621371\n",
        "\n",
        "# calculate miles\n",
        "miles = kilometers * conv_fac\n",
        "print('%0.3f kilometers is equal to %0.3f miles' %(kilometers,miles))\n"
      ],
      "execution_count": 8,
      "outputs": [
        {
          "output_type": "stream",
          "text": [
            "Enter value in kilometers10\n",
            "10.000 kilometers is equal to 6.214 miles\n"
          ],
          "name": "stdout"
        }
      ]
    },
    {
      "cell_type": "markdown",
      "metadata": {
        "id": "866Rhak_ObTt",
        "colab_type": "text"
      },
      "source": [
        "Python Program to Solve Quadratic Equation"
      ]
    },
    {
      "cell_type": "code",
      "metadata": {
        "id": "GD_zKX2pOvjh",
        "colab_type": "code",
        "colab": {
          "base_uri": "https://localhost:8080/",
          "height": 85
        },
        "outputId": "6c8d5fc0-7455-41f9-a5bc-4b3fa1bcafa7"
      },
      "source": [
        "# Solve the quadratic equation ax**2 + bx + c = 0\n",
        "# importing  complex math module\n",
        "import cmath\n",
        "\n",
        " # To take coefficient input from the users\n",
        "a = float(input('Enter a: '))\n",
        "b = float(input('Enter b: '))\n",
        "c = float(input('Enter c: '))\n",
        "\n",
        "# calculate the discriminant\n",
        "d = (b**2) - (4*a*c)\n",
        "\n",
        "# find two solutions\n",
        "sol1 = (-b-cmath.sqrt(d))/(2*a)\n",
        "sol2 = (-b+cmath.sqrt(d))/(2*a)\n",
        "\n",
        "print('The solution are {0} and {1}'.format(sol1,sol2))\n",
        "\n"
      ],
      "execution_count": 10,
      "outputs": [
        {
          "output_type": "stream",
          "text": [
            "Enter a: 2\n",
            "Enter b: 4\n",
            "Enter c: 6\n",
            "The solution are (-1-1.4142135623730951j) and (-1+1.4142135623730951j)\n"
          ],
          "name": "stdout"
        }
      ]
    },
    {
      "cell_type": "markdown",
      "metadata": {
        "id": "K7AtJRWcPA8o",
        "colab_type": "text"
      },
      "source": [
        "Python Program to find Prime or Not"
      ]
    },
    {
      "cell_type": "code",
      "metadata": {
        "id": "def4eGD8PTJE",
        "colab_type": "code",
        "colab": {
          "base_uri": "https://localhost:8080/",
          "height": 51
        },
        "outputId": "4fc4f191-249a-4ab9-d665-4370248a4f40"
      },
      "source": [
        "def test_prime(n):\n",
        "    if (n==1):\n",
        "        return False\n",
        "    elif (n==2):\n",
        "        return True;\n",
        "    else:\n",
        "        for x in range(2,n):\n",
        "            if(n % x==0):\n",
        "                return False\n",
        "        return True\n",
        "no=int(input(\"Enter the number\"))\n",
        "if (test_prime(no)) is True :\n",
        "    print(\" {0} is a prime no\".format(no))\n",
        "else:\n",
        "     print(\" {0} is not a prime no\".format(no))\n",
        "\n"
      ],
      "execution_count": 11,
      "outputs": [
        {
          "output_type": "stream",
          "text": [
            "Enter the number2\n",
            " 2 is a prime no\n"
          ],
          "name": "stdout"
        }
      ]
    },
    {
      "cell_type": "markdown",
      "metadata": {
        "id": "aRpCRQC1PYGC",
        "colab_type": "text"
      },
      "source": [
        "Calculator Program"
      ]
    },
    {
      "cell_type": "code",
      "metadata": {
        "id": "mdKgHhSMPkFE",
        "colab_type": "code",
        "colab": {
          "base_uri": "https://localhost:8080/",
          "height": 1000
        },
        "outputId": "a33cc6ac-cdac-4234-a8c5-5be4b1f4fc37"
      },
      "source": [
        "loop = 1 # 1 means loop; anything else means don't loop.\n",
        "choice = 0 # This variable holds the user's choice in the menu\n",
        "\n",
        "def add(a,b):\n",
        "    return a+b \n",
        "def sub(a,b):\n",
        "    return a-b\n",
        "def mul(a,b):\n",
        "    return a*b\n",
        "def div(a,b):\n",
        "    return a/b\n",
        "\n",
        "while loop == 1:\n",
        "    # Print what options you have\n",
        "    print (\"Welcome to calculator.py\")\n",
        "    print (\"your options are:\")\n",
        "    print (\" \")\n",
        "    print(\"1) Addition\")\n",
        "    print(\"2) Subtraction\")\n",
        "    print(\"3) Multiplication\")\n",
        "    print(\"4) Division\")\n",
        "    print(\"5) Quit calculator.py\")\n",
        "    print(\" \")\n",
        "    try:\n",
        "        choice = int(input(\"Choose your option: \"))\n",
        "    except:\n",
        "        print('please enter a valid number for option')\n",
        "    print(\" \")\n",
        "    print(\" \")\n",
        "    if choice == 1:\n",
        "        x = int(input(\"Enter first no: \"))\n",
        "        y = int(input(\"Enter second no: \"))\n",
        "        print(\"The answer is \",add(x,y))\n",
        "\n",
        "    elif choice == 2:\n",
        "        x = int(input(\"Enter first no: \"))\n",
        "        y = int(input(\"Enter second no: \"))\n",
        "        print(\"answer is \",sub(x,y))\n",
        "  \n",
        "    elif choice == 3:\n",
        "        x = int(input(\"Enter first no: \"))\n",
        "        y = int(input(\"Enter second no: \"))\n",
        "        print(\"answer is \",mul(x,y))\n",
        "\n",
        "    elif choice == 4:\n",
        "        x = int(input(\"Enter first no: \"))\n",
        "        y = int(input(\"Enter second no: \"))\n",
        "        print(\"answer is \",div(x,y))\n",
        "        \n",
        "    elif choice == 5:\n",
        "        loop = 0\n",
        "     \n",
        "    else:\n",
        "        print(\"please choice a valid option from 1 to 5\")\n",
        "        choice=0\n",
        "print (\"Thank-you for using calculator.py!\")\n",
        "\n",
        "\n",
        "\n",
        "\n"
      ],
      "execution_count": 18,
      "outputs": [
        {
          "output_type": "stream",
          "text": [
            "Welcome to calculator.py\n",
            "your options are:\n",
            " \n",
            "1) Addition\n",
            "2) Subtraction\n",
            "3) Multiplication\n",
            "4) Division\n",
            "5) Quit calculator.py\n",
            " \n",
            "Choose your option: 1\n",
            " \n",
            " \n",
            "Enter first no: 1\n",
            "Enter second no: 3\n",
            "The answer is  4\n",
            "Welcome to calculator.py\n",
            "your options are:\n",
            " \n",
            "1) Addition\n",
            "2) Subtraction\n",
            "3) Multiplication\n",
            "4) Division\n",
            "5) Quit calculator.py\n",
            " \n",
            "Choose your option: 2\n",
            " \n",
            " \n",
            "Enter first no: 2\n",
            "Enter second no: 4\n",
            "answer is  -2\n",
            "Welcome to calculator.py\n",
            "your options are:\n",
            " \n",
            "1) Addition\n",
            "2) Subtraction\n",
            "3) Multiplication\n",
            "4) Division\n",
            "5) Quit calculator.py\n",
            " \n",
            "Choose your option: 3\n",
            " \n",
            " \n",
            "Enter first no: 4\n",
            "Enter second no: 5\n",
            "answer is  20\n",
            "Welcome to calculator.py\n",
            "your options are:\n",
            " \n",
            "1) Addition\n",
            "2) Subtraction\n",
            "3) Multiplication\n",
            "4) Division\n",
            "5) Quit calculator.py\n",
            " \n",
            "Choose your option: 4\n",
            " \n",
            " \n",
            "Enter first no: 5\n",
            "Enter second no: 30\n",
            "answer is  0.16666666666666666\n",
            "Welcome to calculator.py\n",
            "your options are:\n",
            " \n",
            "1) Addition\n",
            "2) Subtraction\n",
            "3) Multiplication\n",
            "4) Division\n",
            "5) Quit calculator.py\n",
            " \n",
            "Choose your option: 5\n",
            " \n",
            " \n",
            "Thank-you for using calculator.py!\n"
          ],
          "name": "stdout"
        }
      ]
    }
  ]
}