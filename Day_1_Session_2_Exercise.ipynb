{
  "nbformat": 4,
  "nbformat_minor": 0,
  "metadata": {
    "colab": {
      "name": "Day 1 Session 2  Exercise",
      "provenance": [],
      "authorship_tag": "ABX9TyO3kdW6uImbag5hZlaJzzt+",
      "include_colab_link": true
    },
    "kernelspec": {
      "name": "python3",
      "display_name": "Python 3"
    }
  },
  "cells": [
    {
      "cell_type": "markdown",
      "metadata": {
        "id": "view-in-github",
        "colab_type": "text"
      },
      "source": [
        "<a href=\"https://colab.research.google.com/github/RiyaCP/Python-Workshop/blob/master/Day_1_Session_2_Exercise.ipynb\" target=\"_parent\"><img src=\"https://colab.research.google.com/assets/colab-badge.svg\" alt=\"Open In Colab\"/></a>"
      ]
    },
    {
      "cell_type": "markdown",
      "metadata": {
        "id": "z4ho-zoPTYHn",
        "colab_type": "text"
      },
      "source": [
        "1 Write a program to print the triangle "
      ]
    },
    {
      "cell_type": "code",
      "metadata": {
        "id": "csE2uN4wT78o",
        "colab_type": "code",
        "colab": {
          "base_uri": "https://localhost:8080/",
          "height": 104
        },
        "outputId": "0b96f8a1-0511-4b6b-9b36-0c3896969767"
      },
      "source": [
        "rows = int(input(\"enter number\"))\n",
        "for j in range(1, rows+1):\n",
        "  print(\"* \" * j)"
      ],
      "execution_count": 3,
      "outputs": [
        {
          "output_type": "stream",
          "text": [
            "enter number4\n",
            "* \n",
            "* * \n",
            "* * * \n",
            "* * * * \n"
          ],
          "name": "stdout"
        }
      ]
    },
    {
      "cell_type": "markdown",
      "metadata": {
        "id": "Yizpp7mVW15l",
        "colab_type": "text"
      },
      "source": [
        "6.Find the length of a string without using len functions"
      ]
    },
    {
      "cell_type": "code",
      "metadata": {
        "id": "1oB3NMX9W6Vk",
        "colab_type": "code",
        "colab": {
          "base_uri": "https://localhost:8080/",
          "height": 52
        },
        "outputId": "c1a81177-e66b-4d3c-bb42-148ddff6845f"
      },
      "source": [
        "str = input(\"Enter a string: \")\n",
        "\n",
        "# counter variable to count the character in a string\n",
        "counter = 0\n",
        "for s in str:\n",
        "      counter = counter+1\n",
        "print(\"Length of the input string is:\", counter)"
      ],
      "execution_count": 4,
      "outputs": [
        {
          "output_type": "stream",
          "text": [
            "Enter a string: coorg\n",
            "Length of the input string is: 5\n"
          ],
          "name": "stdout"
        }
      ]
    },
    {
      "cell_type": "markdown",
      "metadata": {
        "id": "9C4f71aOXQyD",
        "colab_type": "text"
      },
      "source": [
        "7.Find the no of words and characters in a string"
      ]
    },
    {
      "cell_type": "markdown",
      "metadata": {
        "id": "SdwiZJQnYBvC",
        "colab_type": "text"
      },
      "source": [
        ""
      ]
    },
    {
      "cell_type": "code",
      "metadata": {
        "id": "bQhc8lT3XZ21",
        "colab_type": "code",
        "colab": {
          "base_uri": "https://localhost:8080/",
          "height": 69
        },
        "outputId": "4ea70efc-2bec-43a6-d491-dfe3f03458d0"
      },
      "source": [
        "#1\n",
        "word_count = 0\n",
        "char_count = 0\n",
        "\n",
        "#2\n",
        "usr_input = input(\"Enter a string : \")\n",
        "\n",
        "#3\n",
        "split_string = usr_input.split()\n",
        "\n",
        "#4\n",
        "word_count = len(split_string)\n",
        "\n",
        "#5\n",
        "for word in split_string:\n",
        "    #6\n",
        "    char_count += len(word)\n",
        "\n",
        "#7\n",
        "print(\"Total words : {}\".format(word_count))\n",
        "print(\"Total characters : {}\".format(char_count))"
      ],
      "execution_count": 5,
      "outputs": [
        {
          "output_type": "stream",
          "text": [
            "Enter a string : ponnampet\n",
            "Total words : 1\n",
            "Total characters : 9\n"
          ],
          "name": "stdout"
        }
      ]
    },
    {
      "cell_type": "markdown",
      "metadata": {
        "id": "r5GhnpUGXsQF",
        "colab_type": "text"
      },
      "source": [
        "8.Find the no of occurrences of a word in a string\n",
        "\n"
      ]
    },
    {
      "cell_type": "code",
      "metadata": {
        "id": "kDGZ3lx_YLhs",
        "colab_type": "code",
        "colab": {
          "base_uri": "https://localhost:8080/",
          "height": 138
        },
        "outputId": "6f1529d5-0765-4cde-cad1-6d1dd4f9366b"
      },
      "source": [
        " # define string\n",
        "string = \"Python is awesome, isn't it?\"\n",
        "substring = \"is\"\n",
        "\n",
        "count = string.count(substring)\n",
        "\n",
        "# print count\n",
        "print(\"The count is:\", count)\n",
        " rows = 5\n",
        "for i in range(0, rows + 1):\n",
        "    for j in range(rows - i, 0, -1):\n",
        "        print(j, end=' ')\n",
        "    print()"
      ],
      "execution_count": 8,
      "outputs": [
        {
          "output_type": "stream",
          "text": [
            "The count is: 2\n",
            "5 4 3 2 1 \n",
            "4 3 2 1 \n",
            "3 2 1 \n",
            "2 1 \n",
            "1 \n",
            "\n"
          ],
          "name": "stdout"
        }
      ]
    }
  ]
}