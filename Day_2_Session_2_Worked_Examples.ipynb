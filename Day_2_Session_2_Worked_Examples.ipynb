{
  "nbformat": 4,
  "nbformat_minor": 0,
  "metadata": {
    "colab": {
      "name": "Day 2 Session 2 Worked Examples",
      "provenance": [],
      "authorship_tag": "ABX9TyM/fwK4lJ8lkclWB25EPIck",
      "include_colab_link": true
    },
    "kernelspec": {
      "name": "python3",
      "display_name": "Python 3"
    }
  },
  "cells": [
    {
      "cell_type": "markdown",
      "metadata": {
        "id": "view-in-github",
        "colab_type": "text"
      },
      "source": [
        "<a href=\"https://colab.research.google.com/github/RiyaCP/Python-Workshop/blob/master/Day_2_Session_2_Worked_Examples.ipynb\" target=\"_parent\"><img src=\"https://colab.research.google.com/assets/colab-badge.svg\" alt=\"Open In Colab\"/></a>"
      ]
    },
    {
      "cell_type": "markdown",
      "metadata": {
        "id": "YGM79DX2J6N2",
        "colab_type": "text"
      },
      "source": [
        "dict.clear()\n",
        "#Removes all elements of dictionary dict\n"
      ]
    },
    {
      "cell_type": "code",
      "metadata": {
        "id": "xOvHe7eqKOEM",
        "colab_type": "code",
        "colab": {
          "base_uri": "https://localhost:8080/",
          "height": 51
        },
        "outputId": "37e93c4c-f63a-419c-d18a-4d6f2fcadba1"
      },
      "source": [
        "dict = {'Name': 'Zara', 'Age': 7};\n",
        "print(\"Start Len : %d\" %  len(dict))\n",
        "dict.clear()\n",
        "print(\"End Len : %d\" %  len(dict))\n",
        "\n"
      ],
      "execution_count": 1,
      "outputs": [
        {
          "output_type": "stream",
          "text": [
            "Start Len : 2\n",
            "End Len : 0\n"
          ],
          "name": "stdout"
        }
      ]
    },
    {
      "cell_type": "markdown",
      "metadata": {
        "id": "cGJkdiO6LY3r",
        "colab_type": "text"
      },
      "source": [
        "dict.items()\n",
        "#Returns a list of dict's (key, value) tuple pairs\n"
      ]
    },
    {
      "cell_type": "code",
      "metadata": {
        "id": "robP3jquLgpg",
        "colab_type": "code",
        "colab": {
          "base_uri": "https://localhost:8080/",
          "height": 34
        },
        "outputId": "8a31eba8-c439-43c5-d4af-dcb9be3ce731"
      },
      "source": [
        "dict = {'Name': 'Zara', 'Age': 7}\n",
        "print (\"Value : %s\" %  dict.items())\n",
        "\n"
      ],
      "execution_count": 2,
      "outputs": [
        {
          "output_type": "stream",
          "text": [
            "Value : dict_items([('Name', 'Zara'), ('Age', 7)])\n"
          ],
          "name": "stdout"
        }
      ]
    },
    {
      "cell_type": "markdown",
      "metadata": {
        "id": "_X-vvoXoMPmk",
        "colab_type": "text"
      },
      "source": [
        "# dict.copy()\n",
        "#Returns a copy of dictionary dict\n",
        "\n"
      ]
    },
    {
      "cell_type": "code",
      "metadata": {
        "id": "WN6cwNVDMVPI",
        "colab_type": "code",
        "colab": {
          "base_uri": "https://localhost:8080/",
          "height": 34
        },
        "outputId": "f7e3cda5-6856-431a-9f4d-d1f54a85e7ef"
      },
      "source": [
        "dict1 = {'Name': 'Zara', 'Age': 7};\n",
        "dict2 = dict1.copy()\n",
        "print (\"New Dictinary : %s\" %  str(dict2))\n"
      ],
      "execution_count": 3,
      "outputs": [
        {
          "output_type": "stream",
          "text": [
            "New Dictinary : {'Name': 'Zara', 'Age': 7}\n"
          ],
          "name": "stdout"
        }
      ]
    },
    {
      "cell_type": "markdown",
      "metadata": {
        "id": "BTwigcT8MseP",
        "colab_type": "text"
      },
      "source": [
        "Python Program to Generate a Dictionary that Contains Numbers (between 1 and n) in the Form (x,x*x). "
      ]
    },
    {
      "cell_type": "code",
      "metadata": {
        "id": "_PzBsPAPMyW4",
        "colab_type": "code",
        "colab": {
          "base_uri": "https://localhost:8080/",
          "height": 51
        },
        "outputId": "4c5763df-376e-4ddc-cbbc-a5333ab7cda8"
      },
      "source": [
        "n=int(input(\"Enter a number:\"))\n",
        "d={x:x*x for x in range(1,n+1)}\n",
        "print(d)\n"
      ],
      "execution_count": 9,
      "outputs": [
        {
          "output_type": "stream",
          "text": [
            "Enter a number:6\n",
            "{1: 1, 2: 4, 3: 9, 4: 16, 5: 25, 6: 36}\n"
          ],
          "name": "stdout"
        }
      ]
    },
    {
      "cell_type": "markdown",
      "metadata": {
        "id": "Zkl_6KUsPc00",
        "colab_type": "text"
      },
      "source": [
        "Python Program to Sum All the Items in a Dictionary "
      ]
    },
    {
      "cell_type": "code",
      "metadata": {
        "id": "gXLbD6ybPjDX",
        "colab_type": "code",
        "colab": {
          "base_uri": "https://localhost:8080/",
          "height": 51
        },
        "outputId": "29e43d51-f92d-4639-f467-46ed5856bef6"
      },
      "source": [
        "d={'A':100,'B':540,'C':239}\n",
        "print(\"Total sum of values in the dictionary:\")\n",
        "print(sum(d.values()))\n"
      ],
      "execution_count": 10,
      "outputs": [
        {
          "output_type": "stream",
          "text": [
            "Total sum of values in the dictionary:\n",
            "879\n"
          ],
          "name": "stdout"
        }
      ]
    },
    {
      "cell_type": "markdown",
      "metadata": {
        "id": "xTTABVuXPzwK",
        "colab_type": "text"
      },
      "source": [
        "Python Program to Remove the Given Key from a Dictionary "
      ]
    },
    {
      "cell_type": "code",
      "metadata": {
        "id": "H9D0XP9IP2q7",
        "colab_type": "code",
        "colab": {
          "base_uri": "https://localhost:8080/",
          "height": 102
        },
        "outputId": "8ce49d8b-3c55-4ffa-c9b4-e7bbc4fdb6c5"
      },
      "source": [
        "d = {'a':1,'b':2,'c':3,'d':4}\n",
        "print(\"Initial dictionary\")\n",
        "print(d)\n",
        "key=input(\"Enter the key to delete(a-d):\")\n",
        "if key in d: \n",
        "    del d[key]\n",
        "else:\n",
        "    print(\"Key not found!\")\n",
        "    exit(0)\n",
        "print(\"Updated dictionary\")\n",
        "print(d)\n"
      ],
      "execution_count": 11,
      "outputs": [
        {
          "output_type": "stream",
          "text": [
            "Initial dictionary\n",
            "{'a': 1, 'b': 2, 'c': 3, 'd': 4}\n",
            "Enter the key to delete(a-d):c\n",
            "Updated dictionary\n",
            "{'a': 1, 'b': 2, 'd': 4}\n"
          ],
          "name": "stdout"
        }
      ]
    },
    {
      "cell_type": "markdown",
      "metadata": {
        "id": "AYyqvh4EQTwg",
        "colab_type": "text"
      },
      "source": [
        "Python Program to add name and mark as key->value pair in  a Dictionary and print it."
      ]
    },
    {
      "cell_type": "code",
      "metadata": {
        "id": "-Qy6e8cFQfd3",
        "colab_type": "code",
        "colab": {
          "base_uri": "https://localhost:8080/",
          "height": 187
        },
        "outputId": "27eaff53-6c7a-415a-e6e3-f9bb744dd3ad"
      },
      "source": [
        "n=int(input(\"Enter no of records\"))\n",
        "d={}\n",
        "for i in range(1,n+1):\n",
        "    name= input(\"Enter name %d\"%(i))\n",
        "    mark=int(input(\"Enter mark %d\"%(i)))\n",
        "    d[name]=mark\n",
        "    print (d)\n"
      ],
      "execution_count": 12,
      "outputs": [
        {
          "output_type": "stream",
          "text": [
            "Enter no of records3\n",
            "Enter name 1hannah\n",
            "Enter mark 190\n",
            "{'hannah': 90}\n",
            "Enter name 2clay\n",
            "Enter mark 260\n",
            "{'hannah': 90, 'clay': 60}\n",
            "Enter name 3tony\n",
            "Enter mark 370\n",
            "{'hannah': 90, 'clay': 60, 'tony': 70}\n"
          ],
          "name": "stdout"
        }
      ]
    },
    {
      "cell_type": "markdown",
      "metadata": {
        "id": "_VFx8akpRxto",
        "colab_type": "text"
      },
      "source": [
        "Keys and Values example"
      ]
    },
    {
      "cell_type": "code",
      "metadata": {
        "id": "a0RI00JCR7is",
        "colab_type": "code",
        "colab": {
          "base_uri": "https://localhost:8080/",
          "height": 493
        },
        "outputId": "971c541a-5aaf-46b7-853c-b85df08e7048"
      },
      "source": [
        " d={}\n",
        " print (\" The dictionary elements are\")\n",
        " for i in range(1,21):\n",
        "     d[i]=i**2\n",
        " print (d)\n",
        " # To print key and values\n",
        " print (\" Key==> Value are\")\n",
        " for (k,v) in d.items():\t\n",
        "      print(k,\"==>\",v)\n",
        " # To print key only\n",
        " print (\"\\nTo print key only\")\n",
        " for k in d.keys():\t\n",
        "       print(k, end=\" \")\n",
        "  #To print value only\n",
        " print (\"\\nTo print values only\")\n",
        " for v in d.values():\t\n",
        "      print(v, end=\" \")\n",
        "\n",
        "\n"
      ],
      "execution_count": 21,
      "outputs": [
        {
          "output_type": "stream",
          "text": [
            " The dictionary elements are\n",
            "{1: 1, 2: 4, 3: 9, 4: 16, 5: 25, 6: 36, 7: 49, 8: 64, 9: 81, 10: 100, 11: 121, 12: 144, 13: 169, 14: 196, 15: 225, 16: 256, 17: 289, 18: 324, 19: 361, 20: 400}\n",
            " Key==> Value are\n",
            "1 ==> 1\n",
            "2 ==> 4\n",
            "3 ==> 9\n",
            "4 ==> 16\n",
            "5 ==> 25\n",
            "6 ==> 36\n",
            "7 ==> 49\n",
            "8 ==> 64\n",
            "9 ==> 81\n",
            "10 ==> 100\n",
            "11 ==> 121\n",
            "12 ==> 144\n",
            "13 ==> 169\n",
            "14 ==> 196\n",
            "15 ==> 225\n",
            "16 ==> 256\n",
            "17 ==> 289\n",
            "18 ==> 324\n",
            "19 ==> 361\n",
            "20 ==> 400\n",
            "\n",
            "To print key only\n",
            "1 2 3 4 5 6 7 8 9 10 11 12 13 14 15 16 17 18 19 20 \n",
            "To print values only\n",
            "1 4 9 16 25 36 49 64 81 100 121 144 169 196 225 256 289 324 361 400 "
          ],
          "name": "stdout"
        }
      ]
    },
    {
      "cell_type": "markdown",
      "metadata": {
        "id": "AwmcyxpqS0m-",
        "colab_type": "text"
      },
      "source": [
        "Python program to convert 2 digit number  into words"
      ]
    },
    {
      "cell_type": "code",
      "metadata": {
        "id": "_CocnluAS15a",
        "colab_type": "code",
        "colab": {
          "base_uri": "https://localhost:8080/",
          "height": 51
        },
        "outputId": "09cd1a94-632f-4c85-8bcd-fa47d1204c9d"
      },
      "source": [
        "d={0:'',1:'one',2:'two',3:'three',4:'four',5:'five',6:'six',7:'seven',8:'eight',9:'nine',\\\n",
        "   10:'ten',11:'eleven',12:'twelve',13:'thirteen',14:'fourteen',15:'fifteen',16:'sixteen',\\\n",
        "   17:'seventeen',18:'eightteen',19:'nineteen',20:'twenty',30:'thirty',40:'fourty',50:'fifty',\\\n",
        "   60:'sixty',70:'seventy',80:'eighty',90:'ninty'}\n",
        "\n",
        "num=int(input(\"Enter the integer between 1 to 99:\"))\n",
        "if (num<=20):\n",
        "      print(d[num])\n",
        "if(num>20 and num<100):\n",
        "        if num%10==0:       \n",
        "            print(d[num])\n",
        "        else:\n",
        "            print(d[num//10*10]+\" \"+d[num%10])\n"
      ],
      "execution_count": 22,
      "outputs": [
        {
          "output_type": "stream",
          "text": [
            "Enter the integer between 1 to 99:66\n",
            "sixty six\n"
          ],
          "name": "stdout"
        }
      ]
    },
    {
      "cell_type": "markdown",
      "metadata": {
        "id": "bI36A5kmTK_n",
        "colab_type": "text"
      },
      "source": [
        "How to sort a dictionary by values in Python"
      ]
    },
    {
      "cell_type": "code",
      "metadata": {
        "id": "5UY6CGVNTLyu",
        "colab_type": "code",
        "colab": {
          "base_uri": "https://localhost:8080/",
          "height": 51
        },
        "outputId": "9a825af8-3c58-4fad-fd82-4172864d4bb2"
      },
      "source": [
        "d = {\"Pierre\": 42, \"Anne\": 33, \"Zoe\": 24}\n",
        "#Use the sorted function and operator module\n",
        "import operator\n",
        "sorted_d = sorted(d.items(), key=operator.itemgetter(1))\n",
        "print(sorted_d)\n",
        "sorted_a= sorted(d.items(), key=operator.itemgetter(1),reverse=True)\n",
        "print(sorted_a)\n",
        "\n"
      ],
      "execution_count": 23,
      "outputs": [
        {
          "output_type": "stream",
          "text": [
            "[('Zoe', 24), ('Anne', 33), ('Pierre', 42)]\n",
            "[('Pierre', 42), ('Anne', 33), ('Zoe', 24)]\n"
          ],
          "name": "stdout"
        }
      ]
    },
    {
      "cell_type": "markdown",
      "metadata": {
        "id": "m_a6CE1mTgAQ",
        "colab_type": "text"
      },
      "source": [
        "Python Program to count the number of lines in a text file"
      ]
    },
    {
      "cell_type": "code",
      "metadata": {
        "id": "JZqbPWKFTiD3",
        "colab_type": "code",
        "colab": {
          "base_uri": "https://localhost:8080/",
          "height": 88
        },
        "outputId": "dc776227-c1bb-4076-980b-9f6fe61c955a"
      },
      "source": [
        "from google.colab import drive\n",
        "drive.mount('/content/drive')\n",
        "#Python Program to count the number of lines in a text file. \n",
        "file = '/content/sample_data/file1.txt'\n",
        "num_lines = 0\n",
        "with open(file, 'r') as f:\n",
        " for line in f:\n",
        "  num_lines += 1\n",
        "print(\"Number of lines:\")\n",
        "print(num_lines)\n",
        "\n"
      ],
      "execution_count": 29,
      "outputs": [
        {
          "output_type": "stream",
          "text": [
            "Drive already mounted at /content/drive; to attempt to forcibly remount, call drive.mount(\"/content/drive\", force_remount=True).\n",
            "Number of lines:\n",
            "3\n"
          ],
          "name": "stdout"
        }
      ]
    },
    {
      "cell_type": "markdown",
      "metadata": {
        "id": "Qb9y-JgIhV9z",
        "colab_type": "text"
      },
      "source": [
        "Python Program to count the number of words in a text file. "
      ]
    },
    {
      "cell_type": "code",
      "metadata": {
        "id": "UHHWK1SFhhJQ",
        "colab_type": "code",
        "colab": {
          "base_uri": "https://localhost:8080/",
          "height": 68
        },
        "outputId": "9e1fc4cb-f29e-486c-dac4-d43cd0924e9b"
      },
      "source": [
        "#Python Program to count the number of lines in a text file. \n",
        "file = '/content/sample_data/file1.txt'\n",
        "num_words = 0\n",
        "with open(file, 'r') as f:\n",
        " for line in f:\n",
        "  words = line.split()\n",
        "print(words)\n",
        "num_words += len(words)\n",
        "print(\"Number of words:\")\n",
        "print(num_words)\n",
        " "
      ],
      "execution_count": 36,
      "outputs": [
        {
          "output_type": "stream",
          "text": [
            "['I', 'am', 'greatful']\n",
            "Number of words:\n",
            "3\n"
          ],
          "name": "stdout"
        }
      ]
    },
    {
      "cell_type": "markdown",
      "metadata": {
        "id": "I0bcrChVi6bk",
        "colab_type": "text"
      },
      "source": [
        "Python Program to count the occurrences of a word in a text file"
      ]
    },
    {
      "cell_type": "code",
      "metadata": {
        "id": "Id3Y7O63jAUS",
        "colab_type": "code",
        "colab": {
          "base_uri": "https://localhost:8080/",
          "height": 68
        },
        "outputId": "50228a36-8cfa-4f70-9494-0d3a4bf1f20d"
      },
      "source": [
        "fname = '/content/sample_data/file1.txt'\n",
        "word=input(\"Enter word to be searched:\")\n",
        "k = 0\n",
        "\n",
        "with open(fname, 'r') as f:\n",
        " for line in f:\n",
        "  words = line.split()\n",
        " for i in words:\n",
        "   if(i==word):\n",
        "    k=k+1\n",
        "print(\"Occurrences of the word:\")\n",
        "print(k)\n",
        "\n",
        " "
      ],
      "execution_count": 43,
      "outputs": [
        {
          "output_type": "stream",
          "text": [
            "Enter word to be searched:am\n",
            "Occurrences of the word:\n",
            "1\n"
          ],
          "name": "stdout"
        }
      ]
    },
    {
      "cell_type": "markdown",
      "metadata": {
        "id": "eFzGd7Nbjmnb",
        "colab_type": "text"
      },
      "source": [
        "Python Program to copy the contents of one file into another. "
      ]
    },
    {
      "cell_type": "code",
      "metadata": {
        "id": "R4WLAM3kjp-l",
        "colab_type": "code",
        "colab": {}
      },
      "source": [
        "file1 = '/content/sample_data/file1.txt'\n",
        "file2 = '/content/sample_data/file2.txt'\n",
        "\n",
        "with open(file1,'r') as f:\n",
        " with open(file2, \"w\") as f1:\n",
        "  for line in f:\n",
        "   f1.write(line)\n"
      ],
      "execution_count": 55,
      "outputs": []
    },
    {
      "cell_type": "markdown",
      "metadata": {
        "id": "lmfZPMNnlrvV",
        "colab_type": "text"
      },
      "source": [
        "Python Program to read the contents of the file in reverse order"
      ]
    },
    {
      "cell_type": "code",
      "metadata": {
        "id": "aVBMKN8rnWqv",
        "colab_type": "code",
        "colab": {
          "base_uri": "https://localhost:8080/",
          "height": 34
        },
        "outputId": "cd5b9c88-bb17-4c52-cb3f-b20237fcfa3a"
      },
      "source": [
        "file = '/content/sample_data/file1.txt'\n",
        "with open (file,'r') as f:\n",
        " for line in f:\n",
        "  l=line.split()\n",
        "  l.reverse() \n",
        "st= \" \".join(l)\n",
        "print (st)\n",
        "\n",
        " "
      ],
      "execution_count": 61,
      "outputs": [
        {
          "output_type": "stream",
          "text": [
            "greatful am I\n"
          ],
          "name": "stdout"
        }
      ]
    }
  ]
}