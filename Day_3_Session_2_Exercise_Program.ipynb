{
  "nbformat": 4,
  "nbformat_minor": 0,
  "metadata": {
    "colab": {
      "name": "Day 3 Session 2 Exercise Program",
      "provenance": [],
      "authorship_tag": "ABX9TyM/VyvHVJvl1MtQyZrr3Xcn",
      "include_colab_link": true
    },
    "kernelspec": {
      "name": "python3",
      "display_name": "Python 3"
    }
  },
  "cells": [
    {
      "cell_type": "markdown",
      "metadata": {
        "id": "view-in-github",
        "colab_type": "text"
      },
      "source": [
        "<a href=\"https://colab.research.google.com/github/RiyaCP/Python-Workshop/blob/master/Day_3_Session_2_Exercise_Program.ipynb\" target=\"_parent\"><img src=\"https://colab.research.google.com/assets/colab-badge.svg\" alt=\"Open In Colab\"/></a>"
      ]
    },
    {
      "cell_type": "markdown",
      "metadata": {
        "id": "b4IsP9E2KgIG",
        "colab_type": "text"
      },
      "source": [
        "Write a Python Program to Print Multiplication Table of a number which got through keyboard"
      ]
    },
    {
      "cell_type": "code",
      "metadata": {
        "id": "eeulEYz1K3HQ",
        "colab_type": "code",
        "colab": {
          "base_uri": "https://localhost:8080/",
          "height": 50
        },
        "outputId": "46be47d3-006d-4cbb-a5a6-bd4d271a9b40"
      },
      "source": [
        "a=[]\n",
        "n=int(input(\"enter the value of n\"))\n",
        "for i in range(1,11):\n",
        "  b=i*n\n",
        "  a.append(str(b))\n",
        "print(','.join(a))\n"
      ],
      "execution_count": null,
      "outputs": [
        {
          "output_type": "stream",
          "text": [
            "enter the value of n50\n",
            "50,100,150,200,250,300,350,400,450,500\n"
          ],
          "name": "stdout"
        }
      ]
    },
    {
      "cell_type": "markdown",
      "metadata": {
        "id": "TW3R-jwULDTm",
        "colab_type": "text"
      },
      "source": [
        "Write a Python Program to find the Armstrong Numbers between 1 and 2000"
      ]
    },
    {
      "cell_type": "code",
      "metadata": {
        "id": "AwrO3p40LHcy",
        "colab_type": "code",
        "colab": {
          "base_uri": "https://localhost:8080/",
          "height": 34
        },
        "outputId": "db46c3e0-b7fe-419f-a837-7fd2ccbcf843"
      },
      "source": [
        "a=[]\n",
        "for i in range(1,2001):\n",
        " temp=i\n",
        " d=0\n",
        " l=0\n",
        " s=0\n",
        " while(temp>0):\n",
        "  temp=temp//10\n",
        "  d=d+1\n",
        " temp=i\n",
        " while(temp>0):\n",
        "  l=temp%10\n",
        "  s=s+l**d\n",
        "  temp=temp//10\n",
        " if(s==i):\n",
        "  a.append(str(i))\n",
        "print(a)\n"
      ],
      "execution_count": null,
      "outputs": [
        {
          "output_type": "stream",
          "text": [
            "['1', '2', '3', '4', '5', '6', '7', '8', '9', '153', '370', '371', '407', '1634']\n"
          ],
          "name": "stdout"
        }
      ]
    },
    {
      "cell_type": "markdown",
      "metadata": {
        "id": "KrifxSlTLQuF",
        "colab_type": "text"
      },
      "source": [
        ""
      ]
    },
    {
      "cell_type": "markdown",
      "metadata": {
        "id": "hHGTLx7ELRC8",
        "colab_type": "text"
      },
      "source": [
        "Write a python program to get the list of tuples (rollno, name) for n students by getting rollno and name through keyboard. Sort and print them as rollno wise and name wise both ascending and descending as well as alphabetical and dealphabetical orders"
      ]
    },
    {
      "cell_type": "code",
      "metadata": {
        "id": "bVNdKxU_LYxi",
        "colab_type": "code",
        "colab": {
          "base_uri": "https://localhost:8080/",
          "height": 185
        },
        "outputId": "f7b83368-f5f2-4072-96f4-c23d21bf09b0"
      },
      "source": [
        "a=[]\n",
        "def inp():\n",
        "  rolno=input(\"enter the rolno\")\n",
        "  name=input(\"enter the name\")\n",
        "  return(rolno,name)\n",
        "n=int(input(\"Enter the value of n\"))\n",
        "for i in range(1,n+1):\n",
        "  a.append(inp())\n",
        "print(a)\n",
        "a.sort(key=lambda i:i[0])\n",
        "print(f'According to Rollno:Ascending order:{a}')\n",
        "print(f'According to Rollno:Descending order:{a[::-1]}')\n",
        "a.sort(key=lambda i:i[1])\n",
        "print(f'According to Name:Alphabeticallyorder:{a}')\n",
        "print(f'According to Name:Dealphabetically order:{a[::-1]}')\n"
      ],
      "execution_count": null,
      "outputs": [
        {
          "output_type": "stream",
          "text": [
            "Enter the value of n2\n",
            "enter the rolno1\n",
            "enter the nameriya\n",
            "enter the rolno2\n",
            "enter the namereva\n",
            "[('1', 'riya'), ('2', 'reva')]\n",
            "According to Rollno:Ascending order:[('1', 'riya'), ('2', 'reva')]\n",
            "According to Rollno:Descending order:[('2', 'reva'), ('1', 'riya')]\n",
            "According to Name:Alphabeticallyorder:[('2', 'reva'), ('1', 'riya')]\n",
            "According to Name:Dealphabetically order:[('1', 'riya'), ('2', 'reva')]\n"
          ],
          "name": "stdout"
        }
      ]
    },
    {
      "cell_type": "markdown",
      "metadata": {
        "id": "BAABzoNlL1vT",
        "colab_type": "text"
      },
      "source": [
        "Python Program to Detect if Two Strings are Anagrams ( They are the two strings which have same length and same words which may be different in their order)"
      ]
    },
    {
      "cell_type": "code",
      "metadata": {
        "id": "WNEVCinJL4lK",
        "colab_type": "code",
        "colab": {
          "base_uri": "https://localhost:8080/",
          "height": 67
        },
        "outputId": "43e1580c-52c5-4d2d-e08d-b510f8c83842"
      },
      "source": [
        "s=input(\"Enter the first string\")\n",
        "s2=input(\"Enter the second string\")\n",
        "if(sorted(s)==sorted(s2)):\n",
        "  print(\"Strings are anagram\")\n",
        "else:\n",
        "  print(\"strings arent anagram\")\n"
      ],
      "execution_count": null,
      "outputs": [
        {
          "output_type": "stream",
          "text": [
            "Enter the first stringRaan\n",
            "Enter the second stringRaan\n",
            "Strings are anagram\n"
          ],
          "name": "stdout"
        }
      ]
    }
  ]
}